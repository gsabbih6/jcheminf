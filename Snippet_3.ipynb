{
 "metadata": {
  "name": "",
  "signature": "sha256:944aaad2cd951414de1f4381d3d3ce16feecf5e5dcbe54d17038b4543e80bb63"
 },
 "nbformat": 3,
 "nbformat_minor": 0,
 "worksheets": [
  {
   "cells": [
    {
     "cell_type": "heading",
     "level": 1,
     "metadata": {},
     "source": [
      "Snippet #3"
     ]
    },
    {
     "cell_type": "code",
     "collapsed": false,
     "input": [
      "import numpy as np\n",
      "from oddt import random_seed\n",
      "from oddt.toolkits import rdk, ob\n",
      "from oddt.scoring.models.classifiers import randomforest\n",
      "from oddt.scoring import cross_validate"
     ],
     "language": "python",
     "metadata": {},
     "outputs": [],
     "prompt_number": 1
    },
    {
     "cell_type": "heading",
     "level": 3,
     "metadata": {},
     "source": [
      "Define fingerprints tu use"
     ]
    },
    {
     "cell_type": "code",
     "collapsed": false,
     "input": [
      "fps = ['fp2', 'fp4', 'maccs', 'morgan', 'layered', 'rdkit']\n",
      "types = ['actives', 'inactives', 'marginal', 'decoys']"
     ],
     "language": "python",
     "metadata": {},
     "outputs": [],
     "prompt_number": 2
    },
    {
     "cell_type": "heading",
     "level": 3,
     "metadata": {},
     "source": [
      "Compute selected fingerprints"
     ]
    },
    {
     "cell_type": "code",
     "collapsed": false,
     "input": [
      "%%time\n",
      "mols = {}\n",
      "for fp in fps:\n",
      "    toolkit = ob if fp in ob.fps else rdk\n",
      "    mols[fp] = {}\n",
      "    for m in types:\n",
      "        mol_file = toolkit.readfile('smi', 'cdk2_%s.ism' % m)\n",
      "        mols[fp][m] = np.array([mol.calcfp(fp).raw for mol in mol_file if mol])"
     ],
     "language": "python",
     "metadata": {},
     "outputs": [
      {
       "output_type": "stream",
       "stream": "stdout",
       "text": [
        "CPU times: user 13min 40s, sys: 1.35 s, total: 13min 42s\n",
        "Wall time: 13min 39s\n"
       ]
      }
     ],
     "prompt_number": 3
    },
    {
     "cell_type": "heading",
     "level": 3,
     "metadata": {},
     "source": [
      "Train and validate Random forest model"
     ]
    },
    {
     "cell_type": "code",
     "collapsed": false,
     "input": [
      "random_seed(1)\n",
      "rf = randomforest(500)\n",
      "tag = {}\n",
      "for fp in fps:\n",
      "    for m in types:\n",
      "        if m == 'actives':\n",
      "            tag[m] = np.ones(len(mols[fp][m]))\n",
      "        else:\n",
      "            tag[m] = np.zeros(len(mols[fp][m]))\n",
      "\n",
      "    # Train on actives and inactives\n",
      "    train_descs = np.vstack((mols[fp]['actives'], mols[fp]['inactives'], mols[fp]['marginal']))\n",
      "    train_tag = np.hstack((tag['actives'], tag['inactives'], tag['marginal']))\n",
      "    \n",
      "    # Test on active and decoys\n",
      "    test_descs = np.vstack((mols[fp]['actives'], mols[fp]['decoys']))\n",
      "    test_tag = np.hstack((tag['actives'], tag['decoys']))\n",
      "    \n",
      "    rf.fit(train_descs, train_tag)\n",
      "    cv_desc = np.vstack((train_descs, test_descs))\n",
      "    cv_tag = np.hstack((train_tag, test_tag))\n",
      "    cv = cross_validate(rf, cv_desc, cv_tag, shuffle=True, n=10, n_jobs=-1)\n",
      "    r2 = rf.score(test_descs, test_tag)\n",
      "    print '%s\\t R^2: %.4f CV: %.4f CV_std: %.4f' % (fp, r2, cv.mean(), cv.std())"
     ],
     "language": "python",
     "metadata": {},
     "outputs": [
      {
       "output_type": "stream",
       "stream": "stdout",
       "text": [
        "fp2\t R^2: 0.9499 CV: 0.9946 CV_std: 0.0016\n"
       ]
      },
      {
       "output_type": "stream",
       "stream": "stdout",
       "text": [
        "fp4\t R^2: 0.8566 CV: 0.9938 CV_std: 0.0016\n"
       ]
      },
      {
       "output_type": "stream",
       "stream": "stdout",
       "text": [
        "maccs\t R^2: 0.8789 CV: 0.9946 CV_std: 0.0015\n"
       ]
      },
      {
       "output_type": "stream",
       "stream": "stdout",
       "text": [
        "morgan\t R^2: 0.9901 CV: 0.9957 CV_std: 0.0011\n"
       ]
      },
      {
       "output_type": "stream",
       "stream": "stdout",
       "text": [
        "layered\t R^2: 0.9355 CV: 0.9948 CV_std: 0.0019\n"
       ]
      },
      {
       "output_type": "stream",
       "stream": "stdout",
       "text": [
        "rdkit\t R^2: 0.9762 CV: 0.9950 CV_std: 0.0012\n"
       ]
      }
     ],
     "prompt_number": 4
    },
    {
     "cell_type": "code",
     "collapsed": false,
     "input": [],
     "language": "python",
     "metadata": {},
     "outputs": []
    }
   ],
   "metadata": {}
  }
 ]
}