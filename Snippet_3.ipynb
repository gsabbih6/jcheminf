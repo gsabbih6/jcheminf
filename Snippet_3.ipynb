{
 "cells": [
  {
   "cell_type": "markdown",
   "metadata": {},
   "source": [
    "# Snippet #3"
   ]
  },
  {
   "cell_type": "code",
   "execution_count": 1,
   "metadata": {
    "collapsed": true
   },
   "outputs": [],
   "source": [
    "from __future__ import print_function"
   ]
  },
  {
   "cell_type": "code",
   "execution_count": 2,
   "metadata": {},
   "outputs": [],
   "source": [
    "import numpy as np\n",
    "from oddt import random_seed\n",
    "from oddt.toolkits import rdk, ob\n",
    "from oddt.scoring.models.classifiers import randomforest\n",
    "from oddt.scoring import cross_validate"
   ]
  },
  {
   "cell_type": "markdown",
   "metadata": {},
   "source": [
    "### Define fingerprints tu use"
   ]
  },
  {
   "cell_type": "code",
   "execution_count": 3,
   "metadata": {},
   "outputs": [],
   "source": [
    "fps = ['fp2', 'fp4', 'maccs', 'morgan', 'layered', 'rdkit']\n",
    "types = ['actives', 'inactives', 'marginal', 'decoys']"
   ]
  },
  {
   "cell_type": "markdown",
   "metadata": {},
   "source": [
    "### Compute selected fingerprints"
   ]
  },
  {
   "cell_type": "code",
   "execution_count": 4,
   "metadata": {},
   "outputs": [
    {
     "name": "stdout",
     "output_type": "stream",
     "text": [
      "CPU times: user 10min 7s, sys: 1.21 s, total: 10min 8s\n",
      "Wall time: 10min 8s\n"
     ]
    }
   ],
   "source": [
    "%%time\n",
    "mols = {}\n",
    "for fp in fps:\n",
    "    toolkit = ob if fp in ob.fps else rdk\n",
    "    mols[fp] = {}\n",
    "    for m in types:\n",
    "        mol_file = toolkit.readfile('smi', 'cdk2_%s.ism' % m)\n",
    "        mols[fp][m] = np.array([mol.calcfp(fp).raw for mol in mol_file if mol])"
   ]
  },
  {
   "cell_type": "markdown",
   "metadata": {},
   "source": [
    "### Train and validate Random forest model"
   ]
  },
  {
   "cell_type": "code",
   "execution_count": 5,
   "metadata": {},
   "outputs": [
    {
     "name": "stdout",
     "output_type": "stream",
     "text": [
      "fp2\t R^2: 0.9508 CV: 0.9946 CV_std: 0.0016\n",
      "fp4\t R^2: 0.8564 CV: 0.9938 CV_std: 0.0016\n",
      "maccs\t R^2: 0.8788 CV: 0.9947 CV_std: 0.0014\n",
      "morgan\t R^2: 0.9903 CV: 0.9957 CV_std: 0.0011\n",
      "layered\t R^2: 0.9286 CV: 0.9947 CV_std: 0.0019\n",
      "rdkit\t R^2: 0.9750 CV: 0.9950 CV_std: 0.0013\n"
     ]
    }
   ],
   "source": [
    "random_seed(1)\n",
    "rf = randomforest(500)\n",
    "tag = {}\n",
    "for fp in fps:\n",
    "    for m in types:\n",
    "        if m == 'actives':\n",
    "            tag[m] = np.ones(len(mols[fp][m]))\n",
    "        else:\n",
    "            tag[m] = np.zeros(len(mols[fp][m]))\n",
    "\n",
    "    # Train on actives and inactives\n",
    "    train_descs = np.vstack((mols[fp]['actives'], mols[fp]['inactives'], mols[fp]['marginal']))\n",
    "    train_tag = np.hstack((tag['actives'], tag['inactives'], tag['marginal']))\n",
    "    \n",
    "    # Test on active and decoys\n",
    "    test_descs = np.vstack((mols[fp]['actives'], mols[fp]['decoys']))\n",
    "    test_tag = np.hstack((tag['actives'], tag['decoys']))\n",
    "    \n",
    "    rf.fit(train_descs, train_tag)\n",
    "    cv_desc = np.vstack((train_descs, test_descs))\n",
    "    cv_tag = np.hstack((train_tag, test_tag))\n",
    "    cv = cross_validate(rf, cv_desc, cv_tag, shuffle=True, n=10, n_jobs=-1)\n",
    "    r2 = rf.score(test_descs, test_tag)\n",
    "    print('%s\\t R^2: %.4f CV: %.4f CV_std: %.4f' % (fp, r2, cv.mean(), cv.std()))"
   ]
  },
  {
   "cell_type": "code",
   "execution_count": null,
   "metadata": {},
   "outputs": [],
   "source": []
  }
 ],
 "metadata": {
  "kernelspec": {
   "display_name": "Python [default]",
   "language": "python",
   "name": "python3"
  },
  "language_info": {
   "codemirror_mode": {
    "name": "ipython",
    "version": 3
   },
   "file_extension": ".py",
   "mimetype": "text/x-python",
   "name": "python",
   "nbconvert_exporter": "python",
   "pygments_lexer": "ipython3",
   "version": "3.5.2"
  }
 },
 "nbformat": 4,
 "nbformat_minor": 1
}
