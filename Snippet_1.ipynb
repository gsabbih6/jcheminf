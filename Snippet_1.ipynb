{
 "cells": [
  {
   "cell_type": "markdown",
   "metadata": {},
   "source": [
    "# Snippet #1"
   ]
  },
  {
   "cell_type": "code",
   "execution_count": 2,
   "metadata": {},
   "outputs": [
    {
     "name": "stdout",
     "output_type": "stream",
     "text": [
      "CPU times: user 5.9 s, sys: 895 ms, total: 6.79 s\n",
      "Wall time: 6min 5s\n"
     ]
    }
   ],
   "source": [
    "%%time\n",
    "from oddt.virtualscreening import virtualscreening as vs\n",
    "# Initiate virtual screening pipeline using 8 CPUs\n",
    "pipeline = vs(n_cpu=8)\n",
    "# Load ligands from a mol2 file\n",
    "pipeline.load_ligands('mol2', 'ampc/actives_final.mol2.gz')\n",
    "# Filter ligands by weight and solubility\n",
    "pipeline.apply_filter('150 < mol.molwt < 350') \n",
    "pipeline.apply_filter('0 < mol.logp < 5')\n",
    "# Dock entire library to receptor, autocenter docking box on  ligand\n",
    "pipeline.dock('autodock_vina', 'ampc/receptor.pdbqt', 'ampc/crystal_ligand.mol2')\n",
    "# Write docked ligands conformations to a file (including scores)\n",
    "pipeline.write('mol2', 'ampc_docked.mol2', overwrite=True, opt={'c':None})\n",
    "# Rescore docking results using RFscore NNscore\n",
    "pipeline.score(function='rfscore', protein='ampc/receptor.pdbqt')\n",
    "pipeline.score(function='nnscore', protein='ampc/receptor.pdbqt')\n",
    "# Write computed scores to csv\n",
    "pipeline.write_csv('ampc_docked.csv')"
   ]
  }
 ],
 "metadata": {
  "anaconda-cloud": {},
  "kernelspec": {
   "display_name": "Python [default]",
   "language": "python",
   "name": "python3"
  },
  "language_info": {
   "codemirror_mode": {
    "name": "ipython",
    "version": 3
   },
   "file_extension": ".py",
   "mimetype": "text/x-python",
   "name": "python",
   "nbconvert_exporter": "python",
   "pygments_lexer": "ipython3",
   "version": "3.5.2"
  }
 },
 "nbformat": 4,
 "nbformat_minor": 1
}
