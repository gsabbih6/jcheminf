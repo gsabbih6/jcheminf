{
 "metadata": {
  "name": "",
  "signature": "sha256:4071ab11ec5a82dbc8fdc9f3573e085476f1fad1fa86b2cbfd06686d69863b02"
 },
 "nbformat": 3,
 "nbformat_minor": 0,
 "worksheets": [
  {
   "cells": [
    {
     "cell_type": "heading",
     "level": 1,
     "metadata": {},
     "source": [
      "Snippet #1"
     ]
    },
    {
     "cell_type": "code",
     "collapsed": false,
     "input": [
      "%%time\n",
      "from oddt.virtualscreening import virtualscreening as vs\n",
      "# Initiate virtual screening pipeline using 8 CPUs\n",
      "pipeline = vs(n_cpu=8)\n",
      "# Load ligands from a mol2 file\n",
      "pipeline.load_ligands('mol2', 'ampc/actives_final.mol2.gz')\n",
      "# Filter ligands by weight and solubility\n",
      "pipeline.apply_filter('150 < mol.molwt < 350') \n",
      "pipeline.apply_filter('0 < mol.logp < 5')\n",
      "# Dock entire library to receptor, autocenter docking box on  ligand\n",
      "pipeline.dock('autodock_vina', 'ampc/receptor.pdbqt', 'ampc/crystal_ligand.mol2')\n",
      "# Write docked ligands conformations to a file (including scores)\n",
      "pipeline.write('mol2', 'ampc_docked.mol2', overwrite=True, opt={'c':None})\n",
      "# Rescore docking results using RFscore NNscore\n",
      "pipeline.score(function='rfscore', protein='ampc/receptor.pdbqt')\n",
      "pipeline.score(function='nnscore', protein='ampc/receptor.pdbqt')\n",
      "# Write computed scores to csv\n",
      "pipeline.write_csv('ampc_docked.csv')"
     ],
     "language": "python",
     "metadata": {},
     "outputs": [
      {
       "output_type": "stream",
       "stream": "stdout",
       "text": [
        "CPU times: user 37.7 s, sys: 8.03 s, total: 45.8 s\n",
        "Wall time: 2min 21s\n"
       ]
      }
     ],
     "prompt_number": 1
    }
   ],
   "metadata": {}
  }
 ]
}